{
 "cells": [
  {
   "cell_type": "code",
   "execution_count": 40,
   "metadata": {
    "collapsed": false
   },
   "outputs": [
    {
     "name": "stdout",
     "output_type": "stream",
     "text": [
      "['instant', 'dteday', 'season', 'yr', 'mnth', 'holiday', 'weekday', 'workingday', 'weathersit', 'temp', 'atemp', 'hum', 'windspeed', 'casual', 'registered', 'cnt']\n",
      "['1', '2011-01-01', '1', '0', '1', '0', '6', '0', '2', '0.344167', '0.363625', '0.805833', '0.160446', '331', '654', '985']\n"
     ]
    }
   ],
   "source": [
    "#dataset can be downloaded from here: https://archive.ics.uci.edu/ml/datasets/Bike+Sharing+Dataset\n",
    "\n",
    "import csv\n",
    "\n",
    "f = open(r'C:\\Users\\asus\\Downloads\\Bike-Sharing-Dataset\\day.csv','r')\n",
    "data = list(csv.reader(f))\n",
    "\n",
    "print(data[0])\n",
    "print(data[1])"
   ]
  },
  {
   "cell_type": "code",
   "execution_count": 24,
   "metadata": {
    "collapsed": false
   },
   "outputs": [
    {
     "name": "stdout",
     "output_type": "stream",
     "text": [
      "[[  1.00000000e+00   2.01101010e+07   1.00000000e+00   0.00000000e+00\n",
      "    1.00000000e+00   0.00000000e+00   6.00000000e+00   0.00000000e+00\n",
      "    2.00000000e+00   3.44167000e-01   3.63625000e-01   8.05833000e-01\n",
      "    1.60446000e-01   3.31000000e+02   6.54000000e+02   9.85000000e+02]\n",
      " [  2.00000000e+00   2.01101020e+07   1.00000000e+00   0.00000000e+00\n",
      "    1.00000000e+00   0.00000000e+00   0.00000000e+00   0.00000000e+00\n",
      "    2.00000000e+00   3.63478000e-01   3.53739000e-01   6.96087000e-01\n",
      "    2.48539000e-01   1.31000000e+02   6.70000000e+02   8.01000000e+02]\n",
      " [  3.00000000e+00   2.01101030e+07   1.00000000e+00   0.00000000e+00\n",
      "    1.00000000e+00   0.00000000e+00   1.00000000e+00   1.00000000e+00\n",
      "    1.00000000e+00   1.96364000e-01   1.89405000e-01   4.37273000e-01\n",
      "    2.48309000e-01   1.20000000e+02   1.22900000e+03   1.34900000e+03]]\n"
     ]
    }
   ],
   "source": [
    "import numpy as np\n",
    "\n",
    "for each in data[1:]:\n",
    "    each[1] = each[1].replace(\"-\",\"\")\n",
    "    \n",
    "data2 = np.array(data[1:],dtype=np.float)\n",
    "print(data2[:3])"
   ]
  },
  {
   "cell_type": "code",
   "execution_count": 30,
   "metadata": {
    "collapsed": false
   },
   "outputs": [
    {
     "name": "stdout",
     "output_type": "stream",
     "text": [
      "3292679.0\n"
     ]
    }
   ],
   "source": [
    "print(data2[:,-1].sum())"
   ]
  },
  {
   "cell_type": "code",
   "execution_count": 64,
   "metadata": {
    "collapsed": false
   },
   "outputs": [
    {
     "name": "stdout",
     "output_type": "stream",
     "text": [
      "8714.0\n",
      "623\n",
      "['624', '2012-09-15', '3', '1', '9', '0', '6', '0', '1', '0.608333', '0.585867', '0.501667', '0.247521', '3160', '5554', '8714']\n"
     ]
    }
   ],
   "source": [
    "print(data2[:,-1].max()) #max number of rents\n",
    "print(np.argmax(data2[:,-1])) #get record of max num of rents\n",
    "print(data[np.argmax(data2[:,-1])+1]) #retrive from origional array, add 1 to index as header is excluded in numpy array"
   ]
  },
  {
   "cell_type": "code",
   "execution_count": 63,
   "metadata": {
    "collapsed": false
   },
   "outputs": [
    {
     "name": "stdout",
     "output_type": "stream",
     "text": [
      "22.0\n",
      "667\n",
      "['668', '2012-10-29', '4', '1', '10', '0', '1', '1', '3', '0.44', '0.4394', '0.88', '0.3582', '2', '20', '22']\n"
     ]
    }
   ],
   "source": [
    "print(data2[:,-1].min()) #min number of rents\n",
    "print(np.argmin(data2[:,-1])) #get record of min num of rents\n",
    "print(data[np.argmin(data2[:,-1])+1]) #retrive from origional array, add 1 to index as header is excluded in numpy array"
   ]
  }
 ],
 "metadata": {
  "kernelspec": {
   "display_name": "Python 3",
   "language": "python",
   "name": "python3"
  },
  "language_info": {
   "codemirror_mode": {
    "name": "ipython",
    "version": 3
   },
   "file_extension": ".py",
   "mimetype": "text/x-python",
   "name": "python",
   "nbconvert_exporter": "python",
   "pygments_lexer": "ipython3",
   "version": "3.6.0"
  }
 },
 "nbformat": 4,
 "nbformat_minor": 2
}
