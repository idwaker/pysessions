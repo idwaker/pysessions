{
 "cells": [
  {
   "cell_type": "code",
   "execution_count": 2,
   "metadata": {
    "collapsed": false
   },
   "outputs": [
    {
     "data": {
      "text/plain": [
       "[[38, 40, 82, 73, 59, 78, 91, 34, 67, 42],\n",
       " [95, 45, 97, 87, 70, 43, 46, 71, 23, 96],\n",
       " [52, 15, 93, 69, 53, 79, 48, 26, 8, 47],\n",
       " [95, 68, 72, 84, 33, 51, 76, 99, 80, 70]]"
      ]
     },
     "execution_count": 2,
     "metadata": {},
     "output_type": "execute_result"
    }
   ],
   "source": [
    "from random import randint\n",
    "matrix = [[randint(1,100) for i in range(10)]for i in range(4)]\n",
    "matrix\n"
   ]
  },
  {
   "cell_type": "code",
   "execution_count": 4,
   "metadata": {
    "collapsed": false
   },
   "outputs": [
    {
     "name": "stdout",
     "output_type": "stream",
     "text": [
      "99\n"
     ]
    }
   ],
   "source": [
    "\n",
    "def find_max(a):\n",
    "    m = 0\n",
    "    for i in range(len(a)):\n",
    "        if a[i]>a[m]:\n",
    "            m=i\n",
    "    return a[m]\n",
    "    \n",
    "'''a=[1,2,2,3]\n",
    "b=find_max(a)\n",
    "print(b)'''\n",
    "\n",
    "max_from_sub_lists = [find_max(m) for m in matrix]\n",
    "max_from_sub_lists\n",
    "print(max(max_from_sub_lists))        \n"
   ]
  },
  {
   "cell_type": "markdown",
   "metadata": {
    "collapsed": false
   },
   "source": [
    "# Write a function that accepts a non negative integer n and returns its factorial. The factorial of a number n (denoted by n!) is the product of all positive integers less than or equal to n. "
   ]
  },
  {
   "cell_type": "code",
   "execution_count": 1,
   "metadata": {
    "collapsed": false
   },
   "outputs": [
    {
     "name": "stdout",
     "output_type": "stream",
     "text": [
      "1\n",
      "120\n"
     ]
    }
   ],
   "source": [
    "def find_factorial(n):\n",
    "    fact=1\n",
    "    for i in range(1,n+1):\n",
    "        fact *= i\n",
    "    return fact\n",
    "\n",
    "print(find_factorial(0))\n",
    "\n",
    "## using recursion \n",
    "\n",
    "\n",
    "def find_factorial1(n):\n",
    "    if n <= 1:\n",
    "        return 1\n",
    "    else:\n",
    "        return n*find_factorial1(n-1)\n",
    "    \n",
    "print(find_factorial1(5))"
   ]
  },
  {
   "cell_type": "markdown",
   "metadata": {},
   "source": [
    "# Write a function that accepts a number n and returns the first n elements of a fibonacci sequence."
   ]
  },
  {
   "cell_type": "code",
   "execution_count": 29,
   "metadata": {
    "collapsed": false
   },
   "outputs": [
    {
     "name": "stdout",
     "output_type": "stream",
     "text": [
      "1\n",
      "1\n",
      "2\n",
      "3\n",
      "5\n",
      "[0, 1, 1, 2, 3, 5, 8, 13, 21, 34]\n"
     ]
    }
   ],
   "source": [
    "def fibo(n):\n",
    "    a, b = 1, 1\n",
    "    while(n > 0):\n",
    "        a, b = b, a+b\n",
    "        n -= 1\n",
    "    return a\n",
    "    \n",
    "for i in range(5):\n",
    "       print(fibo(i))\n",
    "        \n",
    "''' for recusion  \n",
    "    if n <= 1:\n",
    "       return n\n",
    "   else:\n",
    "       return(fibo(n-1) + fibo(n-2)) '''\n",
    "\n",
    "# using a list \n",
    "def fibbo(a):\n",
    "    r=[]\n",
    "    s=0\n",
    "    q=1\n",
    "    for e in range(a):\n",
    "        r.append(s)\n",
    "        w=s+q\n",
    "        s=q\n",
    "        q=w\n",
    "    return r    \n",
    "print(fibbo(10))\n",
    "\n"
   ]
  },
  {
   "cell_type": "markdown",
   "metadata": {},
   "source": [
    "# Generate a list of random numbers and find the pair of numbers from the list which gives the highest difference. "
   ]
  },
  {
   "cell_type": "code",
   "execution_count": 2,
   "metadata": {
    "collapsed": false
   },
   "outputs": [
    {
     "name": "stdout",
     "output_type": "stream",
     "text": [
      "[14, 15, 85, 66, 38, 35, 28, 86, 76, 97]\n",
      "97 - 14 = 83\n",
      "[61, 91, 51, 81, 1, 30, 14, 94, 22, 58]\n",
      "94 1 93\n"
     ]
    }
   ],
   "source": [
    "from random import randint\n",
    "rand_list=[randint(1,100) for i in range(10)]\n",
    "print(rand_list)\n",
    "print('{} - {} = {}'.format(max(rand_list),min(rand_list),max(rand_list)-min(rand_list)))\n",
    "\n",
    "#the Bada style\n",
    "\n",
    "\n",
    "from random import randint\n",
    "listt=[randint(1,100) for i in range(10)]\n",
    "print(listt)\n",
    "maximum=0\n",
    "for a in listt:\n",
    "    for b in listt:\n",
    "        difference=a-b\n",
    "        if difference<0: \n",
    "            difference*=(-1) #positive banaune\n",
    "        if difference>maximum:\n",
    "            if a>b:\n",
    "                x, y = a, b\n",
    "            else:\n",
    "                x, y = b, a\n",
    "            maximum=difference\n",
    "print(x,y,maximum)"
   ]
  },
  {
   "cell_type": "markdown",
   "metadata": {},
   "source": [
    "# To find the HCF of two numbers"
   ]
  },
  {
   "cell_type": "code",
   "execution_count": 13,
   "metadata": {
    "collapsed": false
   },
   "outputs": [
    {
     "name": "stdout",
     "output_type": "stream",
     "text": [
      "3\n"
     ]
    }
   ],
   "source": [
    "def hcf(x,y):\n",
    "    if x < y:\n",
    "        temp = x\n",
    "        x = y\n",
    "        y = temp\n",
    "    rem = x % y\n",
    "    while(rem != 0):\n",
    "        x = y\n",
    "        y = rem\n",
    "        rem = x % y\n",
    "    return y\n",
    "\n",
    "print(hcf(9,12))\n",
    "        \n",
    "        "
   ]
  }
 ],
 "metadata": {
  "kernelspec": {
   "display_name": "Python 3",
   "language": "python",
   "name": "python3"
  },
  "language_info": {
   "codemirror_mode": {
    "name": "ipython",
    "version": 3
   },
   "file_extension": ".py",
   "mimetype": "text/x-python",
   "name": "python",
   "nbconvert_exporter": "python",
   "pygments_lexer": "ipython3",
   "version": "3.6.0"
  }
 },
 "nbformat": 4,
 "nbformat_minor": 2
}
