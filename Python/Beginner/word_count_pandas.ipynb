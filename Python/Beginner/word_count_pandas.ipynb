{
 "cells": [
  {
   "cell_type": "code",
   "execution_count": 1,
   "metadata": {
    "collapsed": true
   },
   "outputs": [],
   "source": [
    "import pandas as pd\n",
    "text = \"\"\"As long as your only concern is placing text on a Web page, it makes no difference\n",
    "whether your page is about music or mushrooms. However, if Richard wants to implement\n",
    "a search engine that can quickly scan this document and extract information about\n",
    "the artist or music tracks, it would help if the document structure told the search engine\n",
    "something about the document content. Without being able to determine whether a particular\n",
    "tag refers to the title, music track, price, or artist, it’s difficult to locate the precise\n",
    "piece of information that Richard might want.\"\"\"\n"
   ]
  },
  {
   "cell_type": "code",
   "execution_count": 18,
   "metadata": {
    "collapsed": false
   },
   "outputs": [],
   "source": [
    "t=text.split()"
   ]
  },
  {
   "cell_type": "code",
   "execution_count": 30,
   "metadata": {
    "collapsed": false
   },
   "outputs": [
    {
     "name": "stdout",
     "output_type": "stream",
     "text": [
      "as long as your only concern is placing text on a web page it makes no difference\n",
      "whether your page is about music or mushrooms however if richard wants to implement\n",
      "a search engine that can quickly scan this document and extract information about\n",
      "the artist or music tracks it would help if the document structure told the search engine\n",
      "something about the document content without being able to determine whether a particular\n",
      "tag refers to the title music track price or artist its difficult to locate the precise\n",
      "piece of information that richard might want\n",
      "-------------------------------------\n",
      "0       a\n",
      "1     the\n",
      "2      an\n",
      "3      if\n",
      "4      is\n",
      "5     are\n",
      "6      as\n",
      "7      of\n",
      "8      it\n",
      "9      on\n",
      "10     to\n",
      "11     or\n",
      "12    and\n",
      "dtype: object\n",
      "-------------------------------------\n",
      "['as', 'long', 'as', 'your', 'only', 'concern', 'is', 'placing', 'text', 'on', 'a', 'web', 'page', 'it', 'makes', 'no', 'difference', 'whether', 'your', 'page', 'is', 'about', 'music', 'or', 'mushrooms', 'however', 'if', 'richard', 'wants', 'to', 'implement', 'a', 'search', 'engine', 'that', 'can', 'quickly', 'scan', 'this', 'document', 'and', 'extract', 'information', 'about', 'the', 'artist', 'or', 'music', 'tracks', 'it', 'would', 'help', 'if', 'the', 'document', 'structure', 'told', 'the', 'search', 'engine', 'something', 'about', 'the', 'document', 'content', 'without', 'being', 'able', 'to', 'determine', 'whether', 'a', 'particular', 'tag', 'refers', 'to', 'the', 'title', 'music', 'track', 'price', 'or', 'artist', 'its', 'difficult', 'to', 'locate', 'the', 'precise', 'piece', 'of', 'information', 'that', 'richard', 'might', 'want']\n",
      "-------------------------------------\n"
     ]
    }
   ],
   "source": [
    "my_str = text.replace(\".\",\"\").replace(\",\",\"\").replace(\"’\",\"\").lower()\n",
    "print(my_str)\n",
    "print(\"-------------------------------------\")\n",
    "stop_words = [\"a\",\"the\",\"an\",\"if\",\"is\",\"are\",\"as\",\"of\",\"it\",\"on\",\"to\",\"or\",\"and\"]\n",
    "del_words=pd.Series(stop_words)\n",
    "print(del_words)\n",
    "print(\"-------------------------------------\")\n",
    "ss = my_str.split()\n",
    "print(ss)    \n",
    "print(\"-------------------------------------\")"
   ]
  },
  {
   "cell_type": "code",
   "execution_count": 20,
   "metadata": {
    "collapsed": true
   },
   "outputs": [],
   "source": [
    "text1=pd.Series(ss)"
   ]
  },
  {
   "cell_type": "code",
   "execution_count": 43,
   "metadata": {
    "collapsed": false
   },
   "outputs": [
    {
     "data": {
      "text/plain": [
       "as                      as\n",
       "long                  long\n",
       "as                      as\n",
       "your                  your\n",
       "only                  only\n",
       "concern            concern\n",
       "is                      is\n",
       "placing            placing\n",
       "text                  text\n",
       "on                      on\n",
       "a                        a\n",
       "web                    web\n",
       "page                  page\n",
       "it                      it\n",
       "makes                makes\n",
       "no                      no\n",
       "difference      difference\n",
       "whether            whether\n",
       "your                  your\n",
       "page                  page\n",
       "is                      is\n",
       "about                about\n",
       "music                music\n",
       "or                      or\n",
       "mushrooms        mushrooms\n",
       "however            however\n",
       "if                      if\n",
       "richard            richard\n",
       "wants                wants\n",
       "to                      to\n",
       "                  ...     \n",
       "being                being\n",
       "able                  able\n",
       "to                      to\n",
       "determine        determine\n",
       "whether            whether\n",
       "a                        a\n",
       "particular      particular\n",
       "tag                    tag\n",
       "refers              refers\n",
       "to                      to\n",
       "the                    the\n",
       "title                title\n",
       "music                music\n",
       "track                track\n",
       "price                price\n",
       "or                      or\n",
       "artist              artist\n",
       "its                    its\n",
       "difficult        difficult\n",
       "to                      to\n",
       "locate              locate\n",
       "the                    the\n",
       "precise            precise\n",
       "piece                piece\n",
       "of                      of\n",
       "information    information\n",
       "that                  that\n",
       "richard            richard\n",
       "might                might\n",
       "want                  want\n",
       "dtype: object"
      ]
     },
     "execution_count": 43,
     "metadata": {},
     "output_type": "execute_result"
    }
   ],
   "source": [
    "text1\n",
    "text1.index=text1.values\n",
    "text1"
   ]
  },
  {
   "cell_type": "code",
   "execution_count": 24,
   "metadata": {
    "collapsed": false
   },
   "outputs": [
    {
     "data": {
      "text/plain": [
       "the            6\n",
       "to             4\n",
       "music          3\n",
       "a              3\n",
       "document       3\n",
       "about          3\n",
       "or             3\n",
       "search         2\n",
       "as             2\n",
       "whether        2\n",
       "information    2\n",
       "that           2\n",
       "artist         2\n",
       "your           2\n",
       "engine         2\n",
       "it             2\n",
       "page           2\n",
       "if             2\n",
       "richard        2\n",
       "is             2\n",
       "told           1\n",
       "difference     1\n",
       "mushrooms      1\n",
       "long           1\n",
       "help           1\n",
       "makes          1\n",
       "title          1\n",
       "precise        1\n",
       "extract        1\n",
       "being          1\n",
       "              ..\n",
       "would          1\n",
       "without        1\n",
       "text           1\n",
       "this           1\n",
       "wants          1\n",
       "difficult      1\n",
       "able           1\n",
       "something      1\n",
       "can            1\n",
       "tag            1\n",
       "structure      1\n",
       "locate         1\n",
       "price          1\n",
       "web            1\n",
       "quickly        1\n",
       "of             1\n",
       "on             1\n",
       "determine      1\n",
       "however        1\n",
       "particular     1\n",
       "piece          1\n",
       "and            1\n",
       "track          1\n",
       "content        1\n",
       "placing        1\n",
       "scan           1\n",
       "implement      1\n",
       "concern        1\n",
       "want           1\n",
       "might          1\n",
       "dtype: int64"
      ]
     },
     "execution_count": 24,
     "metadata": {},
     "output_type": "execute_result"
    }
   ],
   "source": [
    "text1.value_counts()"
   ]
  },
  {
   "cell_type": "code",
   "execution_count": 46,
   "metadata": {
    "collapsed": false
   },
   "outputs": [
    {
     "data": {
      "text/plain": [
       "document       3\n",
       "music          3\n",
       "about          3\n",
       "artist         2\n",
       "richard        2\n",
       "that           2\n",
       "your           2\n",
       "whether        2\n",
       "information    2\n",
       "page           2\n",
       "search         2\n",
       "engine         2\n",
       "precise        1\n",
       "makes          1\n",
       "title          1\n",
       "mushrooms      1\n",
       "being          1\n",
       "no             1\n",
       "help           1\n",
       "this           1\n",
       "tracks         1\n",
       "would          1\n",
       "only           1\n",
       "text           1\n",
       "without        1\n",
       "want           1\n",
       "locate         1\n",
       "extract        1\n",
       "difference     1\n",
       "told           1\n",
       "piece          1\n",
       "difficult      1\n",
       "wants          1\n",
       "implement      1\n",
       "able           1\n",
       "something      1\n",
       "can            1\n",
       "tag            1\n",
       "structure      1\n",
       "price          1\n",
       "web            1\n",
       "refers         1\n",
       "quickly        1\n",
       "determine      1\n",
       "however        1\n",
       "particular     1\n",
       "track          1\n",
       "long           1\n",
       "content        1\n",
       "placing        1\n",
       "scan           1\n",
       "might          1\n",
       "concern        1\n",
       "its            1\n",
       "dtype: int64"
      ]
     },
     "execution_count": 46,
     "metadata": {},
     "output_type": "execute_result"
    }
   ],
   "source": [
    "'''for words in del_words:\n",
    "    text1.drop[words]'''\n",
    "text1.loc[text1.index.difference(stop_words)].value_counts()"
   ]
  },
  {
   "cell_type": "code",
   "execution_count": null,
   "metadata": {
    "collapsed": true
   },
   "outputs": [],
   "source": []
  },
  {
   "cell_type": "code",
   "execution_count": 11,
   "metadata": {
    "collapsed": false
   },
   "outputs": [],
   "source": []
  },
  {
   "cell_type": "code",
   "execution_count": null,
   "metadata": {
    "collapsed": false
   },
   "outputs": [],
   "source": []
  },
  {
   "cell_type": "code",
   "execution_count": null,
   "metadata": {
    "collapsed": true
   },
   "outputs": [],
   "source": []
  },
  {
   "cell_type": "code",
   "execution_count": null,
   "metadata": {
    "collapsed": true
   },
   "outputs": [],
   "source": []
  },
  {
   "cell_type": "code",
   "execution_count": null,
   "metadata": {
    "collapsed": true
   },
   "outputs": [],
   "source": []
  },
  {
   "cell_type": "code",
   "execution_count": null,
   "metadata": {
    "collapsed": true
   },
   "outputs": [],
   "source": []
  },
  {
   "cell_type": "code",
   "execution_count": null,
   "metadata": {
    "collapsed": true
   },
   "outputs": [],
   "source": []
  }
 ],
 "metadata": {
  "kernelspec": {
   "display_name": "Python 3",
   "language": "python",
   "name": "python3"
  },
  "language_info": {
   "codemirror_mode": {
    "name": "ipython",
    "version": 3
   },
   "file_extension": ".py",
   "mimetype": "text/x-python",
   "name": "python",
   "nbconvert_exporter": "python",
   "pygments_lexer": "ipython3",
   "version": "3.6.0"
  }
 },
 "nbformat": 4,
 "nbformat_minor": 2
}
