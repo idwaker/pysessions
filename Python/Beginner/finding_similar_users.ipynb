{
 "cells": [
  {
   "cell_type": "code",
   "execution_count": 1,
   "metadata": {
    "collapsed": false
   },
   "outputs": [
    {
     "data": {
      "text/plain": [
       "array([['user', 'starwars', 'spiderman', 'superman', 'batman'],\n",
       "       ['john', '5', '6', '7', '9'],\n",
       "       ['david', '6', '9', '4', '8'],\n",
       "       ['alex', '4', '6', '8', '9'],\n",
       "       ['james', '8', '7', '9', '6'],\n",
       "       ['sally', '5', '8', '7', '6'],\n",
       "       ['anna', '8', '6', '8', '5'],\n",
       "       ['andrey', '6', '7', '4', '8'],\n",
       "       ['maria', '4', '8', '9', '7'],\n",
       "       ['brian', '6', '8', '7', '5'],\n",
       "       ['johnny', '6', '8', '5', '9']], \n",
       "      dtype='<U9')"
      ]
     },
     "execution_count": 1,
     "metadata": {},
     "output_type": "execute_result"
    }
   ],
   "source": [
    "import csv\n",
    "import numpy as np\n",
    "\n",
    "#read csv file and convert it to a numpy array\n",
    "f = open(r'ratings.csv','r') \n",
    "#rating.csv can be downloaded from this link: https://drive.google.com/open?id=0B-FhQn7HmAeANlAtVjhJb19QZU0\n",
    "data = np.array(list(csv.reader(f))) \n",
    "data"
   ]
  },
  {
   "cell_type": "code",
   "execution_count": 2,
   "metadata": {
    "collapsed": false
   },
   "outputs": [
    {
     "data": {
      "text/plain": [
       "array([[ 5.,  6.,  7.,  9.],\n",
       "       [ 6.,  9.,  4.,  8.],\n",
       "       [ 4.,  6.,  8.,  9.],\n",
       "       [ 8.,  7.,  9.,  6.],\n",
       "       [ 5.,  8.,  7.,  6.],\n",
       "       [ 8.,  6.,  8.,  5.],\n",
       "       [ 6.,  7.,  4.,  8.],\n",
       "       [ 4.,  8.,  9.,  7.],\n",
       "       [ 6.,  8.,  7.,  5.],\n",
       "       [ 6.,  8.,  5.,  9.]])"
      ]
     },
     "execution_count": 2,
     "metadata": {},
     "output_type": "execute_result"
    }
   ],
   "source": [
    "#extract only numerical information from the previous numpy array\n",
    "data2 = np.array(data[1:,1:],dtype=float)\n",
    "data2"
   ]
  },
  {
   "cell_type": "code",
   "execution_count": 3,
   "metadata": {
    "collapsed": true
   },
   "outputs": [],
   "source": [
    "#write a function which accepts two 1-d numpy arrays each of which we treat as a point in a 4-d space \n",
    "#the function returns the euclidean distance between those two points\n",
    "def find_distance(p1,p2):\n",
    "    distance = (((p1 - p2)**2).sum())**0.5\n",
    "    return distance"
   ]
  },
  {
   "cell_type": "code",
   "execution_count": 4,
   "metadata": {
    "collapsed": false
   },
   "outputs": [
    {
     "name": "stdout",
     "output_type": "stream",
     "text": [
      "[[ 0.          4.47213595  1.41421356  4.79583152  3.60555128  5.09901951\n",
      "   3.46410162  3.60555128  4.58257569  3.        ]\n",
      " [ 4.47213595  0.          5.47722558  6.08276253  3.87298335  6.164414    2.\n",
      "   5.56776436  4.35889894  1.73205081]\n",
      " [ 1.41421356  5.47722558  0.          5.19615242  3.87298335  5.65685425\n",
      "   4.69041576  3.          5.          4.12310563]\n",
      " [ 4.79583152  6.08276253  5.19615242  0.          3.74165739  1.73205081\n",
      "   5.74456265  4.24264069  3.16227766  5.47722558]\n",
      " [ 3.60555128  3.87298335  3.87298335  3.74165739  0.          3.87298335\n",
      "   3.87298335  2.44948974  1.41421356  3.74165739]\n",
      " [ 5.09901951  6.164414    5.65685425  1.73205081  3.87298335  0.\n",
      "   5.47722558  5.          3.          5.74456265]\n",
      " [ 3.46410162  2.          4.69041576  5.74456265  3.87298335  5.47722558\n",
      "   0.          5.56776436  4.35889894  1.73205081]\n",
      " [ 3.60555128  5.56776436  3.          4.24264069  2.44948974  5.\n",
      "   5.56776436  0.          3.46410162  4.89897949]\n",
      " [ 4.58257569  4.35889894  5.          3.16227766  1.41421356  3.\n",
      "   4.35889894  3.46410162  0.          4.47213595]\n",
      " [ 3.          1.73205081  4.12310563  5.47722558  3.74165739  5.74456265\n",
      "   1.73205081  4.89897949  4.47213595  0.        ]]\n"
     ]
    }
   ],
   "source": [
    "#find rhe distances between all possible pairs of users from our dataset and form a matrix of distances\n",
    "dists_matrix = []\n",
    "for i in range(len(data2)):\n",
    "    dists = []\n",
    "    for j in range(len(data2)):\n",
    "        if i != j:\n",
    "            dists.append(find_distance(data2[i],data2[j]))\n",
    "        else:\n",
    "            dists.append(0)\n",
    "    dists_matrix.append(dists)\n",
    "    \n",
    "print(np.array(dists_matrix))"
   ]
  },
  {
   "cell_type": "code",
   "execution_count": 5,
   "metadata": {
    "collapsed": false
   },
   "outputs": [
    {
     "data": {
      "text/plain": [
       "4.2442838657366995"
      ]
     },
     "execution_count": 5,
     "metadata": {},
     "output_type": "execute_result"
    }
   ],
   "source": [
    "#find the average distances\n",
    "mean = np.unique(np.array(dists_matrix))[1:].mean()\n",
    "mean"
   ]
  },
  {
   "cell_type": "code",
   "execution_count": 6,
   "metadata": {
    "collapsed": false
   },
   "outputs": [
    {
     "data": {
      "text/plain": [
       "[[0, 0, 1, 0, 1, 0, 1, 1, 0, 1],\n",
       " [0, 0, 0, 0, 1, 0, 1, 0, 0, 1],\n",
       " [1, 0, 0, 0, 1, 0, 0, 1, 0, 1],\n",
       " [0, 0, 0, 0, 1, 1, 0, 1, 1, 0],\n",
       " [1, 1, 1, 1, 0, 1, 1, 1, 1, 1],\n",
       " [0, 0, 0, 1, 1, 0, 0, 0, 1, 0],\n",
       " [1, 1, 0, 0, 1, 0, 0, 0, 0, 1],\n",
       " [1, 0, 1, 1, 1, 0, 0, 0, 1, 0],\n",
       " [0, 0, 0, 1, 1, 1, 0, 1, 0, 0],\n",
       " [1, 1, 1, 0, 1, 0, 1, 0, 0, 0]]"
      ]
     },
     "execution_count": 6,
     "metadata": {},
     "output_type": "execute_result"
    }
   ],
   "source": [
    "#create a similarity matrix where 1 indicates users having similar taste and 0 indicates the opposite\n",
    "similarity_matrix = []\n",
    "for i in range(len(dists_matrix)):\n",
    "    row = []\n",
    "    for j in range(len(dists_matrix[i])):\n",
    "        if i!=j:\n",
    "            if dists_matrix[i][j]<mean:\n",
    "                row.append(1)\n",
    "            else:\n",
    "                row.append(0)\n",
    "        else:\n",
    "            row.append(0)\n",
    "    similarity_matrix.append(row)\n",
    "    \n",
    "similarity_matrix"
   ]
  },
  {
   "cell_type": "code",
   "execution_count": 7,
   "metadata": {
    "collapsed": false
   },
   "outputs": [
    {
     "data": {
      "image/png": "[encoded data removed]",
      "text/plain": [
       "<matplotlib.figure.Figure at 0xcaeebb52e8>"
      ]
     },
     "metadata": {},
     "output_type": "display_data"
    }
   ],
   "source": [
    "#write a function to plot the users on a 2d plane on the basis of the ratings they gave to 2 of the movies\n",
    "import matplotlib.pyplot as plt\n",
    "%matplotlib inline\n",
    "\n",
    "def plot_on_plane(data, film1, film2):\n",
    "    x=[]\n",
    "    y=[]\n",
    "    header = data[0]\n",
    "    for i in range(1,len(data)):\n",
    "        x.append(float(data[i,np.where(header==film1)[0][0]]))\n",
    "        y.append(float(data[i,np.where(header==film2)[0][0]]))\n",
    "        plt.text(x[-1]+0.1, y[-1]+0.1, data[i,0])\n",
    "            \n",
    "    plt.xlim(0,10)\n",
    "    plt.ylim(0,10)\n",
    "    plt.xlabel(film1)\n",
    "    plt.ylabel(film2)\n",
    "    plt.plot(x,y,'*')\n",
    "    \n",
    "plot_on_plane(data,'starwars','spiderman')"
   ]
  }
 ],
 "metadata": {
  "kernelspec": {
   "display_name": "Python 3",
   "language": "python",
   "name": "python3"
  },
  "language_info": {
   "codemirror_mode": {
    "name": "ipython",
    "version": 3
   },
   "file_extension": ".py",
   "mimetype": "text/x-python",
   "name": "python",
   "nbconvert_exporter": "python",
   "pygments_lexer": "ipython3",
   "version": "3.6.0"
  }
 },
 "nbformat": 4,
 "nbformat_minor": 2
}
