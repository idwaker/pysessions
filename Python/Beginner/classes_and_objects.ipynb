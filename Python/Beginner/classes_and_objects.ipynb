{
 "cells": [
  {
   "cell_type": "code",
   "execution_count": 13,
   "metadata": {
    "collapsed": false
   },
   "outputs": [
    {
     "name": "stdout",
     "output_type": "stream",
     "text": [
      "Mike\n",
      "A Customer of ABC Bank\n",
      "Aukat chaina\n",
      "1100\n"
     ]
    }
   ],
   "source": [
    "class Customer():\n",
    "    \"\"\"A Customer of ABC Bank\"\"\"\n",
    "    def __init__(self, name, balance):\n",
    "        self.name = name\n",
    "        self.balance = balance\n",
    "    def withdraw(self, amount):\n",
    "        if(self.balance > amount):\n",
    "            self.balance-=amount\n",
    "            return self.balance\n",
    "        else:\n",
    "            return(\"Aukat chaina\")     \n",
    "    def deposit(self, amount):\n",
    "        self.balance+=amount\n",
    "        return self.balance\n",
    "    \n",
    "C = Customer(\"Mike\",100)\n",
    "print(C.name)\n",
    "print(C.__doc__)\n",
    "print(C.withdraw(1000))\n",
    "print(C.deposit(1000))"
   ]
  },
  {
   "cell_type": "code",
   "execution_count": 11,
   "metadata": {
    "collapsed": true
   },
   "outputs": [],
   "source": [
    "class Encapsulation():\n",
    "    def __init__(self,a,b,c):\n",
    "        self.public = a\n",
    "        self._protected = b\n",
    "        self.__private = c\n",
    "\n",
    "x = Encapsulation(11,13,17)"
   ]
  },
  {
   "cell_type": "code",
   "execution_count": 12,
   "metadata": {
    "collapsed": false
   },
   "outputs": [
    {
     "name": "stdout",
     "output_type": "stream",
     "text": [
      "11\n",
      "2\n"
     ]
    }
   ],
   "source": [
    "print(x.public)\n",
    "x.public = 2\n",
    "print(x.public)"
   ]
  },
  {
   "cell_type": "code",
   "execution_count": 11,
   "metadata": {
    "collapsed": false
   },
   "outputs": [
    {
     "name": "stdout",
     "output_type": "stream",
     "text": [
      "13\n",
      "3\n"
     ]
    }
   ],
   "source": [
    "print(x._protected)\n",
    "x._protected = 3\n",
    "print(x._protected)"
   ]
  },
  {
   "cell_type": "code",
   "execution_count": 12,
   "metadata": {
    "collapsed": false
   },
   "outputs": [
    {
     "ename": "AttributeError",
     "evalue": "'Encapsulation' object has no attribute '__private'",
     "output_type": "error",
     "traceback": [
      "\u001b[0;31m---------------------------------------------------------------------------\u001b[0m",
      "\u001b[0;31mAttributeError\u001b[0m                            Traceback (most recent call last)",
      "\u001b[0;32m<ipython-input-12-34250f9f4f25>\u001b[0m in \u001b[0;36m<module>\u001b[0;34m()\u001b[0m\n\u001b[0;32m----> 1\u001b[0;31m \u001b[0mprint\u001b[0m\u001b[1;33m(\u001b[0m\u001b[0mx\u001b[0m\u001b[1;33m.\u001b[0m\u001b[0m__private\u001b[0m\u001b[1;33m)\u001b[0m\u001b[1;33m\u001b[0m\u001b[0m\n\u001b[0m",
      "\u001b[0;31mAttributeError\u001b[0m: 'Encapsulation' object has no attribute '__private'"
     ]
    }
   ],
   "source": [
    "print(x.__private)"
   ]
  },
  {
   "cell_type": "code",
   "execution_count": 14,
   "metadata": {
    "collapsed": false
   },
   "outputs": [
    {
     "name": "stdout",
     "output_type": "stream",
     "text": [
      "17\n",
      "4\n"
     ]
    }
   ],
   "source": [
    "print(x._Encapsulation__private)\n",
    "x._Encapsulation__private = 4\n",
    "print(x._Encapsulation__private)"
   ]
  }
 ],
 "metadata": {
  "kernelspec": {
   "display_name": "Python 3",
   "language": "python",
   "name": "python3"
  },
  "language_info": {
   "codemirror_mode": {
    "name": "ipython",
    "version": 3
   },
   "file_extension": ".py",
   "mimetype": "text/x-python",
   "name": "python",
   "nbconvert_exporter": "python",
   "pygments_lexer": "ipython3",
   "version": "3.6.0"
  }
 },
 "nbformat": 4,
 "nbformat_minor": 2
}
