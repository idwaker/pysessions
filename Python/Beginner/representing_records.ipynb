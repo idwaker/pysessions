{
 "cells": [
  {
   "cell_type": "markdown",
   "metadata": {},
   "source": [
    "# Using lists to store records"
   ]
  },
  {
   "cell_type": "code",
   "execution_count": 5,
   "metadata": {
    "collapsed": false
   },
   "outputs": [
    {
     "name": "stdout",
     "output_type": "stream",
     "text": [
      "40\n"
     ]
    }
   ],
   "source": [
    "bob = ['Bob Smith',40,50000,'software']\n",
    "john = ['John Sally',38,60000,'hardware']\n",
    "anna = ['Anna Ivanova',41,50000,'software']\n",
    "jane = ['Jane Hudson',39,60000,'hardware']\n"
   ]
  },
  {
   "cell_type": "code",
   "execution_count": 53,
   "metadata": {
    "collapsed": false
   },
   "outputs": [
    {
     "name": "stdout",
     "output_type": "stream",
     "text": [
      "['Bob Smith', 40, 50000, 'software']\n",
      "['John Sally', 38, 60000, 'hardware']\n",
      "['Anna Ivanova', 41, 50000, 'software']\n",
      "['Jane Hudson', 39, 60000, 'hardware']\n"
     ]
    }
   ],
   "source": [
    "employees = [bob, john, anna, jane]\n",
    "\n",
    "for e in employees:\n",
    "    print(e)"
   ]
  },
  {
   "cell_type": "code",
   "execution_count": 54,
   "metadata": {
    "collapsed": false
   },
   "outputs": [
    {
     "name": "stdout",
     "output_type": "stream",
     "text": [
      "Bob Smith\n",
      "John Sally\n",
      "Anna Ivanova\n",
      "Jane Hudson\n"
     ]
    }
   ],
   "source": [
    "for e in employees:\n",
    "    print(e[0])"
   ]
  },
  {
   "cell_type": "markdown",
   "metadata": {},
   "source": [
    "## Insert another record in the employees"
   ]
  },
  {
   "cell_type": "code",
   "execution_count": 55,
   "metadata": {
    "collapsed": false
   },
   "outputs": [
    {
     "name": "stdout",
     "output_type": "stream",
     "text": [
      "Bob Smith\n",
      "John Sally\n",
      "Anna Ivanova\n",
      "Jane Hudson\n",
      "Mohendra Amatya\n"
     ]
    }
   ],
   "source": [
    "mohit = ['Mohendra Amatya',22,80000,'software']\n",
    "employees.append(mohit)\n",
    "for e in employees:\n",
    "    print(e[0])"
   ]
  },
  {
   "cell_type": "code",
   "execution_count": 56,
   "metadata": {
    "collapsed": false
   },
   "outputs": [
    {
     "name": "stdout",
     "output_type": "stream",
     "text": [
      "Bob\n",
      "John\n",
      "Anna\n",
      "Jane\n",
      "Mohendra\n"
     ]
    }
   ],
   "source": [
    "for e in employees:\n",
    "    print(e[0].split()[0])"
   ]
  },
  {
   "cell_type": "code",
   "execution_count": 57,
   "metadata": {
    "collapsed": false
   },
   "outputs": [
    {
     "data": {
      "text/plain": [
       "[60000.0, 72000.0, 60000.0, 72000.0, 96000.0]"
      ]
     },
     "execution_count": 57,
     "metadata": {},
     "output_type": "execute_result"
    }
   ],
   "source": [
    "for e in employees:\n",
    "    e[2] *= 1.20\n",
    "\n",
    "pays = [e[2] for e in employees]\n",
    "\n",
    "pays"
   ]
  },
  {
   "cell_type": "code",
   "execution_count": 58,
   "metadata": {
    "collapsed": false
   },
   "outputs": [
    {
     "name": "stdout",
     "output_type": "stream",
     "text": [
      "Bob Smith 60000.0\n",
      "John Sally 72000.0\n",
      "Anna Ivanova 60000.0\n",
      "Jane Hudson 72000.0\n",
      "Mohendra Amatya 96000.0\n"
     ]
    }
   ],
   "source": [
    "NAME, AGE, PAY, DEPT = range(4)\n",
    "\n",
    "for e in employees:\n",
    "    print(e[NAME],e[PAY])"
   ]
  },
  {
   "cell_type": "markdown",
   "metadata": {},
   "source": [
    "## Write a function to find the sum of all the numbers in a list and find the total amount to be payed to the employees"
   ]
  },
  {
   "cell_type": "code",
   "execution_count": 59,
   "metadata": {
    "collapsed": false
   },
   "outputs": [
    {
     "name": "stdout",
     "output_type": "stream",
     "text": [
      "360000.0\n"
     ]
    }
   ],
   "source": [
    "def find_sum(l):\n",
    "    summ=0\n",
    "    for e in l:\n",
    "        summ+=e[2]\n",
    "    return summ\n",
    "\n",
    "print(find_sum(employees))\n"
   ]
  },
  {
   "cell_type": "markdown",
   "metadata": {},
   "source": [
    "# Using dictionaries"
   ]
  },
  {
   "cell_type": "code",
   "execution_count": 33,
   "metadata": {
    "collapsed": false
   },
   "outputs": [
    {
     "name": "stdout",
     "output_type": "stream",
     "text": [
      "{'name': 'Bob Smith', 'age': 40, 'pay': 60000.0, 'dept': 'software'}\n"
     ]
    },
    {
     "data": {
      "text/plain": [
       "[{'age': 40, 'dept': 'software', 'name': 'Bob Smith', 'pay': 60000.0},\n",
       " {'age': 38, 'dept': 'hardware', 'name': 'John Sally', 'pay': 72000.0},\n",
       " {'age': 41, 'dept': 'software', 'name': 'Anna Ivanova', 'pay': 60000.0},\n",
       " {'age': 39, 'dept': 'hardware', 'name': 'Jane Hudson', 'pay': 72000.0},\n",
       " {'age': 22, 'dept': 'software', 'name': 'Mohendra Amatya', 'pay': 60000000.0}]"
      ]
     },
     "execution_count": 33,
     "metadata": {},
     "output_type": "execute_result"
    }
   ],
   "source": [
    "fields = ['name','age','pay','dept']\n",
    "\n",
    "print(dict(zip(fields,employees[0])))\n",
    "\n",
    "employees_dict = []\n",
    "for e in employees:\n",
    "    employees_dict.append(dict(zip(fields,e)))\n",
    "    \n",
    "employees_dict"
   ]
  },
  {
   "cell_type": "code",
   "execution_count": 34,
   "metadata": {
    "collapsed": false
   },
   "outputs": [
    {
     "name": "stdout",
     "output_type": "stream",
     "text": [
      "Bob Smith 60000.0\n",
      "John Sally 72000.0\n",
      "Anna Ivanova 60000.0\n",
      "Jane Hudson 72000.0\n",
      "Mohendra Amatya 60000000.0\n"
     ]
    }
   ],
   "source": [
    "for e in employees_dict:\n",
    "    print(e['name'],e['pay'])"
   ]
  },
  {
   "cell_type": "markdown",
   "metadata": {},
   "source": [
    "## Write a function to find the oldest employee from employees_dict "
   ]
  },
  {
   "cell_type": "code",
   "execution_count": 61,
   "metadata": {
    "collapsed": false
   },
   "outputs": [
    {
     "name": "stdout",
     "output_type": "stream",
     "text": [
      "{'name': 'Anna Ivanova', 'age': 41, 'pay': 60000.0, 'dept': 'software'}\n"
     ]
    }
   ],
   "source": [
    "def find_oldest(emp):\n",
    "    maxx = emp[0]['age']\n",
    "    for e in emp:\n",
    "        if e['age'] > maxx:\n",
    "            maxx = e['age']\n",
    "    for e in emp:\n",
    "        if maxx == e['age']:\n",
    "            return e\n",
    "        \n",
    "print(find_oldest(employees_dict))\n",
    "        \n"
   ]
  },
  {
   "cell_type": "code",
   "execution_count": 1,
   "metadata": {
    "collapsed": false
   },
   "outputs": [
    {
     "ename": "NameError",
     "evalue": "name 'employees_dict' is not defined",
     "output_type": "error",
     "traceback": [
      "\u001b[0;31m---------------------------------------------------------------------------\u001b[0m",
      "\u001b[0;31mNameError\u001b[0m                                 Traceback (most recent call last)",
      "\u001b[0;32m<ipython-input-1-a9e50db7f196>\u001b[0m in \u001b[0;36m<module>\u001b[0;34m()\u001b[0m\n\u001b[0;32m----> 1\u001b[0;31m \u001b[0memp1\u001b[0m \u001b[1;33m=\u001b[0m \u001b[0memployees_dict\u001b[0m\u001b[1;33m[\u001b[0m\u001b[1;36m0\u001b[0m\u001b[1;33m]\u001b[0m\u001b[1;33m\u001b[0m\u001b[0m\n\u001b[0m\u001b[1;32m      2\u001b[0m \u001b[0mprint\u001b[0m\u001b[1;33m(\u001b[0m\u001b[0memp1\u001b[0m\u001b[1;33m)\u001b[0m\u001b[1;33m\u001b[0m\u001b[0m\n\u001b[1;32m      3\u001b[0m \u001b[1;33m\u001b[0m\u001b[0m\n\u001b[1;32m      4\u001b[0m \u001b[1;32mfor\u001b[0m \u001b[0mkey\u001b[0m\u001b[1;33m,\u001b[0m\u001b[0mvalue\u001b[0m \u001b[1;32min\u001b[0m \u001b[0memp1\u001b[0m\u001b[1;33m.\u001b[0m\u001b[0mitems\u001b[0m\u001b[1;33m(\u001b[0m\u001b[1;33m)\u001b[0m\u001b[1;33m:\u001b[0m\u001b[1;33m\u001b[0m\u001b[0m\n\u001b[1;32m      5\u001b[0m     \u001b[0mprint\u001b[0m\u001b[1;33m(\u001b[0m\u001b[0mkey\u001b[0m\u001b[1;33m,\u001b[0m\u001b[0mvalue\u001b[0m\u001b[1;33m)\u001b[0m\u001b[1;33m\u001b[0m\u001b[0m\n",
      "\u001b[0;31mNameError\u001b[0m: name 'employees_dict' is not defined"
     ]
    }
   ],
   "source": [
    "emp1 = employees_dict[0]\n",
    "print(emp1)\n",
    "\n",
    "for key,value in emp1.items():\n",
    "    print(key,value)\n",
    "    \n",
    "for k in emp1.keys():\n",
    "    print(k)\n",
    "    \n",
    "for v in emp1.values():\n",
    "    print(v)"
   ]
  },
  {
   "cell_type": "code",
   "execution_count": 2,
   "metadata": {
    "collapsed": false
   },
   "outputs": [
    {
     "name": "stdout",
     "output_type": "stream",
     "text": [
      "Smith\n",
      "Sally\n",
      "Ivanova\n",
      "Hudson\n",
      "60000.0\n",
      "72000.0\n",
      "60000.0\n",
      "72000.0\n",
      "4100\n",
      "Anna Ivanova\n"
     ]
    }
   ],
   "source": [
    "class Employee():\n",
    "    \"\"\"Employees of ABC company\"\"\"\n",
    "    def __init__ (self, name, age, salary, dept):\n",
    "        self.name = name\n",
    "        self.age = age\n",
    "        self.salary = salary\n",
    "        self.dept = dept\n",
    "    def caste(self):\n",
    "        print(self.name.split()[-1])\n",
    "    def salary_inc(self, increment):\n",
    "        self.salary *= ((increment/100)+1)\n",
    "        return self.salary\n",
    "\n",
    "    \n",
    "\n",
    "    \n",
    "    \n",
    " \n",
    "    \n",
    "        \n",
    "bob = Employee('Bob Smith',40,50000,'software')\n",
    "john = Employee('John Sally',38,60000,'hardware')\n",
    "anna = Employee('Anna Ivanova',4100,50000,'software')\n",
    "jane = Employee('Jane Hudson',390,60000,'hardware')\n",
    "list1=[bob, john, anna, jane]\n",
    "for i in list1:\n",
    "    i.caste()\n",
    "    \n",
    "for i in list1:\n",
    "    print(i.salary_inc(20))\n",
    "    \n",
    "def oldest():\n",
    "    oldage = bob.age\n",
    "    for i in list1:\n",
    "        if(i.age > oldage):\n",
    "            oldage=i.age\n",
    "            nameold = i.name\n",
    "    print(oldage)\n",
    "    print(nameold)\n",
    "    \n",
    "oldest()\n",
    "\n"
   ]
  },
  {
   "cell_type": "code",
   "execution_count": 1,
   "metadata": {
    "collapsed": false
   },
   "outputs": [
    {
     "name": "stdout",
     "output_type": "stream",
     "text": [
      "62500.0\n",
      "Bob Smith\n"
     ]
    }
   ],
   "source": [
    "class Employee():\n",
    "    \"\"\"Employees of ABC company\"\"\"\n",
    "    def __init__ (self, name, age, salary):\n",
    "        self.name = name\n",
    "        self.age = age\n",
    "        self.salary = salary\n",
    "    def get_first_name(self):\n",
    "        print(self.name.split()[0])\n",
    "    def get_last_name(self):\n",
    "        print(self.name.split()[-1])\n",
    "    def give_raise(self, increment):\n",
    "        self.salary *= ((float(increment)/100)+1)\n",
    "    def __str__(self):\n",
    "        return self.name\n",
    "    \n",
    "class Software(Employee):\n",
    "    def __init__(self, name, age, salary):\n",
    "        Employee.__init__(self, name, age, salary)\n",
    "        self.dept = \"Software\"\n",
    "        self.bonus = 15\n",
    "    def give_raise(self, p): \n",
    "        Employee.give_raise(self,self.bonus + p)\n",
    "        \n",
    "        \n",
    "bob = Software('Bob Smith',40,50000)\n",
    "john = Employee('John Sally',38,60000)\n",
    "\n",
    "bob.give_raise(10)\n",
    "print(bob.salary)\n",
    "print(bob)    \n",
    "        "
   ]
  }
 ],
 "metadata": {
  "anaconda-cloud": {},
  "kernelspec": {
   "display_name": "Python 3",
   "language": "python",
   "name": "python3"
  },
  "language_info": {
   "codemirror_mode": {
    "name": "ipython",
    "version": 3
   },
   "file_extension": ".py",
   "mimetype": "text/x-python",
   "name": "python",
   "nbconvert_exporter": "python",
   "pygments_lexer": "ipython3",
   "version": "3.6.0"
  }
 },
 "nbformat": 4,
 "nbformat_minor": 0
}
